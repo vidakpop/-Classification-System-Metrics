{
  "cells": [
    {
      "cell_type": "markdown",
      "metadata": {
        "id": "view-in-github",
        "colab_type": "text"
      },
      "source": [
        "<a href=\"https://colab.research.google.com/github/vidakpop/-Classification-System-Metrics/blob/main/%20Classification%20System%20Metrics.ipynb\" target=\"_parent\"><img src=\"https://colab.research.google.com/assets/colab-badge.svg\" alt=\"Open In Colab\"/></a>"
      ]
    },
    {
      "cell_type": "markdown",
      "metadata": {
        "id": "0Ni2a-Tz1HOH"
      },
      "source": [
        "# DTSC670: Foundations of Machine Learning Models\n",
        "\n",
        "## Assignment 6: Classification System Metrics\n",
        "\n",
        "#### Name:\n"
      ]
    },
    {
      "cell_type": "markdown",
      "metadata": {
        "id": "yJmjcGuh1HOL"
      },
      "source": [
        "## CodeGrade\n",
        "\n",
        "Note that this assignment will be automatically graded through CodeGrade and you will have unlimited submission attempts.  When submitting to CodeGrade, your notebook should be named `assignment6.ipynb` and there should be no errors in the file or CodeGrade will not be able to grade it.  Before submitting, I suggest that you restart your kernel and attempt to run all cells again to ensure that there will be no errors when CodeGrade runs your script.\n",
        "\n",
        "It is very important that all written functions have the function parameters in the same order as given to you in the respective instructions.  \n",
        "\n",
        "Do not use the built-in Scikit-Learn functions when creating your functions from scratch.  Instead, you may use those functions after to verify your calculations.  Your assignments will be checked and points will be manually taken off if you use Scikit-Learn functions in your created functions.\n",
        "\n",
        "<u style=\"color:red;\">**Important: Do not round any of your outputs or CodeGrade will count them as incorrect**</u>\n",
        "\n",
        "\n",
        "## Assignment Details\n",
        "\n",
        "The purpose of this assignment is to familiarize you with the metrics used to measure prediction performance in classification systems.  Suppose there 20 binary observations whose target values are:\n",
        "\n",
        "$$[1, 0, 0, 1, 0, 0, 1, 0, 0, 1, 1, 0, 0, 0, 0, 1, 0, 1, 0, 1]$$\n",
        "\n",
        "Suppose that your machine learning model returns prediction probabilities ([predict_proba()](https://scikit-learn.org/stable/modules/generated/sklearn.linear_model.LogisticRegression.html#sklearn.linear_model.LogisticRegression.predict_proba) in sklearn) of:\n",
        "\n",
        "$$[0.886, 0.375, 0.174, 0.817, 0.574, 0.319, 0.812, 0.314, 0.098, 0.741, 0.847, 0.202, 0.31 , 0.073, 0.179, 0.917, 0.64 , 0.388, 0.116, 0.72]$$\n",
        "\n"
      ]
    },
    {
      "cell_type": "markdown",
      "metadata": {
        "id": "S54STMMB1HOQ"
      },
      "source": [
        "# Calculate Model Predictions\n",
        "\n",
        "Begin by writing a function from scratch called `predict()` that accepts as input the following (in this exact order):\n",
        "- a list of prediction probabilities (as a list)\n",
        "- threshold value (as a float)\n",
        "\n",
        "This function should compute the final predictions to be output by the model and return them as a list.  If a prediction probability value is less than or equal to the threshold value, then the prediction is the negative case (i.e. 0).  If a prediction probability value is greater than the threshold value, then the prediction is the positive case (i.e. 1)."
      ]
    },
    {
      "cell_type": "code",
      "execution_count": null,
      "metadata": {
        "id": "boCcD7qa1HOU"
      },
      "outputs": [],
      "source": [
        "def predict(prediction_probabilities, threshold):\n",
        "    # Initialize an empty list to store the final predictions\n",
        "    predictions = []\n",
        "\n",
        "    # Iterate through the prediction probabilities\n",
        "    for prob in prediction_probabilities:\n",
        "        # Check if the probability is greater than the threshold\n",
        "        if prob > threshold:\n",
        "            # If greater, classify as positive (1)\n",
        "            predictions.append(1)\n",
        "        else:\n",
        "            # If less than or equal to threshold, classify as negative (0)\n",
        "            predictions.append(0)\n",
        "\n",
        "    return predictions\n"
      ]
    },
    {
      "cell_type": "markdown",
      "metadata": {
        "id": "BBFpU-dd1HOW"
      },
      "source": [
        "Next, we will create a list of prediction probabilities (as given in the Assignment Details section) called `probs` and a variable called `thresh` that has the value 0.5.  Then invoke the `predict()` function to calculate the model predictions using those variables.  Save this output as `preds` and print it out."
      ]
    },
    {
      "cell_type": "code",
      "execution_count": null,
      "metadata": {
        "colab": {
          "base_uri": "https://localhost:8080/"
        },
        "id": "o4I9zQ5w1HOY",
        "outputId": "74f1f88c-405f-440c-de6c-822441d2bb85"
      },
      "outputs": [
        {
          "output_type": "stream",
          "name": "stdout",
          "text": [
            "Model Predictions:  [1, 0, 0, 1, 1, 0, 1, 0, 0, 1, 1, 0, 0, 0, 0, 1, 1, 0, 0, 1]\n"
          ]
        }
      ],
      "source": [
        "# prediction probabilities\n",
        "probs = [0.886,0.375,0.174,0.817,0.574,0.319,0.812,0.314,0.098,0.741,\n",
        "         0.847,0.202,0.31,0.073,0.179,0.917,0.64,0.388,0.116,0.72]\n",
        "\n",
        "# threshold value\n",
        "thresh = 0.5\n",
        "\n",
        "# prediction values\n",
        "preds = predict(probs, thresh)\n",
        "\n",
        "print(\"Model Predictions: \", preds)"
      ]
    },
    {
      "cell_type": "markdown",
      "metadata": {
        "id": "wGl2w9i21HOa"
      },
      "source": [
        "# Calculate the Model Accuracy\n",
        "\n",
        "Write a function from scratch called `acc_score()` that accepts as input (in this exact order):\n",
        "- a list of true labels\n",
        "- a list of model predictions\n",
        "\n",
        "This function should calculate the model accuracy score using the true labels as compared to the predictions."
      ]
    },
    {
      "cell_type": "code",
      "execution_count": null,
      "metadata": {
        "id": "1DtCXdlc1HOc"
      },
      "outputs": [],
      "source": [
        "def acc_score(true_labels, model_predictions):\n",
        "    # Check if the lengths of true_labels and model_predictions are the same\n",
        "    if len(true_labels) != len(model_predictions):\n",
        "        raise ValueError(\"Input lists must have the same length.\")\n",
        "\n",
        "    # Initialize variables to keep track of correct predictions\n",
        "    correct_predictions = 0\n",
        "\n",
        "    # Iterate through the true labels and model predictions\n",
        "    for true_label, prediction in zip(true_labels, model_predictions):\n",
        "        if true_label == prediction:\n",
        "            correct_predictions += 1\n",
        "\n",
        "    # Calculate accuracy as the ratio of correct predictions to the total predictions\n",
        "    accuracy = correct_predictions / len(true_labels)\n",
        "\n",
        "    return accuracy\n"
      ]
    },
    {
      "cell_type": "markdown",
      "metadata": {
        "id": "wK5YvOsj1HOe"
      },
      "source": [
        "Now, compute the accuracy score using your function `acc_score()`, and pass as input the true labels (listed below as `labels`) and the model predictions you calculated above (`preds`).  "
      ]
    },
    {
      "cell_type": "code",
      "execution_count": null,
      "metadata": {
        "id": "yUt5c1t61HOg",
        "colab": {
          "base_uri": "https://localhost:8080/"
        },
        "outputId": "70225ecf-b4c7-4be7-ec67-e7d72f0f7887"
      },
      "outputs": [
        {
          "output_type": "stream",
          "name": "stdout",
          "text": [
            "Model Accuracy:  0.85\n"
          ]
        }
      ],
      "source": [
        "# true labels\n",
        "labels = [1, 0, 0, 1, 0, 0, 1, 0, 0, 1, 1, 0, 0, 0, 0, 1, 0, 1, 0, 1]\n",
        "\n",
        "accuracy = acc_score(labels, preds)\n",
        "print(\"Model Accuracy: \", accuracy)"
      ]
    },
    {
      "cell_type": "markdown",
      "metadata": {
        "id": "Sp1nbMup1HOj"
      },
      "source": [
        "**Code Check:** Use the Scikit-Learn's [accuracy_score()](https://scikit-learn.org/stable/modules/generated/sklearn.metrics.accuracy_score.html) function to check that the value you computed using `acc_score()` is correct."
      ]
    },
    {
      "cell_type": "code",
      "execution_count": null,
      "metadata": {
        "id": "IAEaTuse1HOl",
        "colab": {
          "base_uri": "https://localhost:8080/"
        },
        "outputId": "249653fb-f15c-4e6c-cc0e-fe4bd5bc8746"
      },
      "outputs": [
        {
          "output_type": "stream",
          "name": "stdout",
          "text": [
            "Scikit-Learn Accuracy: 0.85\n"
          ]
        }
      ],
      "source": [
        "from sklearn.metrics import accuracy_score\n",
        "\n",
        "# Calculate accuracy using scikit-learn's accuracy_score function\n",
        "sklearn_accuracy = accuracy_score(labels, preds)\n",
        "\n",
        "print(\"Scikit-Learn Accuracy: {:.2f}\".format(sklearn_accuracy))\n"
      ]
    },
    {
      "cell_type": "markdown",
      "metadata": {
        "id": "hNfWA1Xj1HOm"
      },
      "source": [
        "# Calculate the Model Error Rate\n",
        "\n",
        "Write a function from scratch called `error_rate()` that accepts as input (in this exact order):\n",
        "- a list of true labels\n",
        "- a list of model predictions\n",
        "\n",
        "This function should calculate the model error rate and should use your `acc_score()` function that you previously defined."
      ]
    },
    {
      "cell_type": "code",
      "execution_count": null,
      "metadata": {
        "id": "3yVBR4771HOm"
      },
      "outputs": [],
      "source": [
        "def error_rate(true_labels, model_predictions):\n",
        "    # Calculate accuracy using the acc_score function\n",
        "    accuracy = acc_score(true_labels, model_predictions)\n",
        "\n",
        "    # Calculate error rate as the complement of accuracy\n",
        "    error_rate = 1.0 - accuracy\n",
        "\n",
        "    return error_rate\n"
      ]
    },
    {
      "cell_type": "markdown",
      "metadata": {
        "id": "k1QE0g0M1HOn"
      },
      "source": [
        "Now, compute the model error rate for the true labels and the model predictions previously given.  Name the error rate that you calculate `error` in your code."
      ]
    },
    {
      "cell_type": "code",
      "execution_count": null,
      "metadata": {
        "id": "LDct5Xfi1HOo",
        "colab": {
          "base_uri": "https://localhost:8080/"
        },
        "outputId": "c0cfec2b-8a11-4663-a92c-cb225150433a"
      },
      "outputs": [
        {
          "output_type": "stream",
          "name": "stdout",
          "text": [
            "Model Error Rate:  0.15000000000000002\n"
          ]
        }
      ],
      "source": [
        "error = error_rate(labels, preds)\n",
        "print(\"Model Error Rate: \", error)"
      ]
    },
    {
      "cell_type": "markdown",
      "metadata": {
        "id": "ThP-P7ua1HOo"
      },
      "source": [
        "# Calculate the Model Precision and Recall\n",
        "\n",
        "Write a function from scratch called `prec_recall_score()` that accepts as input (in this exact order):\n",
        "- a list of true labels\n",
        "- a list of model predictions\n",
        "\n",
        "This function should compute and return _both_ the model precision and recall (in that order).  \n",
        "\n",
        "Do not use the built-in Scikit-Learn functions `precision_score()`,`recall_score()`, `confusion_matrix()`, or Panda's `crosstab()` to do this.  Instead, you may use those functions after to verify your calculations. We want to ensure that you understand what is going on behind-the-scenes of the precision and recall functions by creating similar ones from scratch.  "
      ]
    },
    {
      "cell_type": "code",
      "execution_count": null,
      "metadata": {
        "id": "by1cin8t1HOq"
      },
      "outputs": [],
      "source": [
        "def prec_recall_score(true_labels, model_predictions):\n",
        "    # Initialize variables to keep track of true positive, false positive, and false negative counts\n",
        "    true_positive = 0\n",
        "    false_positive = 0\n",
        "    false_negative = 0\n",
        "\n",
        "    # Iterate through the true labels and model predictions\n",
        "    for true_label, prediction in zip(true_labels, model_predictions):\n",
        "        if true_label == 1 and prediction == 1:\n",
        "            # True positive\n",
        "            true_positive += 1\n",
        "        elif true_label == 0 and prediction == 1:\n",
        "            # False positive\n",
        "            false_positive += 1\n",
        "        elif true_label == 1 and prediction == 0:\n",
        "            # False negative\n",
        "            false_negative += 1\n",
        "\n",
        "    # Calculate precision and recall\n",
        "    precision = true_positive / (true_positive + false_positive) if (true_positive + false_positive) > 0 else 0\n",
        "    recall = true_positive / (true_positive + false_negative) if (true_positive + false_negative) > 0 else 0\n",
        "\n",
        "    return precision, recall\n"
      ]
    },
    {
      "cell_type": "markdown",
      "metadata": {
        "id": "59OMM--t1HOr"
      },
      "source": [
        "Use your `prec_recall_score` function to compute `precision` and `recall` for the true labels and the model predictions you calculated previously.  Save your output as `precision` and `recall`."
      ]
    },
    {
      "cell_type": "code",
      "execution_count": null,
      "metadata": {
        "id": "LAMkyOJh1HOr",
        "colab": {
          "base_uri": "https://localhost:8080/"
        },
        "outputId": "b68f7256-c5c7-4810-e42f-a035a8699b7d"
      },
      "outputs": [
        {
          "output_type": "stream",
          "name": "stdout",
          "text": [
            "Precision =  0.7777777777777778\n",
            "Recall =  0.875\n"
          ]
        }
      ],
      "source": [
        "precision, recall =  prec_recall_score(labels, preds)\n",
        "print(\"Precision = \", precision)\n",
        "print(\"Recall = \", recall)"
      ]
    },
    {
      "cell_type": "markdown",
      "metadata": {
        "id": "sJoZ3-F91HOs"
      },
      "source": [
        "**Code Check:** Use Scikit-Learn's `precision_score()` and `recall_score()` to verify that your calculations above are correct:"
      ]
    },
    {
      "cell_type": "code",
      "execution_count": null,
      "metadata": {
        "id": "Bw65G43T1HOs",
        "colab": {
          "base_uri": "https://localhost:8080/"
        },
        "outputId": "f119722c-f46f-4ec2-f8b4-e53d0bcbf5fd"
      },
      "outputs": [
        {
          "output_type": "stream",
          "name": "stdout",
          "text": [
            "Scikit-Learn Precision: 0.7777777777777778\n"
          ]
        }
      ],
      "source": [
        "# Sklearn Precision Score\n",
        "from sklearn.metrics import precision_score\n",
        "\n",
        "# Calculate precision using scikit-learn's precision_score function\n",
        "sklearn_precision = precision_score(labels, preds)\n",
        "\n",
        "print(\"Scikit-Learn Precision: {}\".format(sklearn_precision))"
      ]
    },
    {
      "cell_type": "code",
      "execution_count": null,
      "metadata": {
        "id": "ImkEFo-l1HOu",
        "colab": {
          "base_uri": "https://localhost:8080/"
        },
        "outputId": "c239b098-10f7-4417-873a-00a9d2c222bf"
      },
      "outputs": [
        {
          "output_type": "stream",
          "name": "stdout",
          "text": [
            "Scikit-Learn Recall: 0.875\n"
          ]
        }
      ],
      "source": [
        "# Sklearn Recall Score\n",
        "from sklearn.metrics import  recall_score\n",
        "\n",
        "# Calculate recall using scikit-learn's recall_score function\n",
        "sklearn_recall = recall_score(labels, preds)\n",
        "\n",
        "print(\"Scikit-Learn Recall: {}\".format(sklearn_recall))\n"
      ]
    },
    {
      "cell_type": "markdown",
      "metadata": {
        "id": "_tjGT1c_1HOv"
      },
      "source": [
        "# Calculate $F_\\beta$ Scores\n",
        "\n",
        "Write a function from scratch called `f_beta` that computes the $F_\\beta$ measure for any value of $\\beta$.  \n",
        "\n",
        "- This function must invoke the `prec_recall_score` function you wrote above in order to obtain the values for precision and recall.  \n",
        "- The function must take as input (in this exact order):\n",
        "    - a list of true labels\n",
        "    - a list of model predictions you calculated previously\n",
        "    - the value of $\\beta$ you wish to use in the calculation\n",
        "    \n",
        "We defined $F_\\beta$ in class to be:\n",
        "\n",
        "$$ F_\\beta = \\frac{(\\beta^2+1) \\cdot Pr \\cdot Re}{\\beta^2 \\cdot Pr + Re} $$"
      ]
    },
    {
      "cell_type": "code",
      "execution_count": null,
      "metadata": {
        "id": "WaBfOmSQ1HOw"
      },
      "outputs": [],
      "source": [
        "def f_beta(true_labels, model_predictions, beta):\n",
        "    # Calculate precision and recall using the prec_recall_score function\n",
        "    precision, recall = prec_recall_score(true_labels, model_predictions)\n",
        "\n",
        "    # Calculate the Fβ measure using the provided formula\n",
        "    if precision == 0 or recall == 0:\n",
        "      # Avoids division by zero\n",
        "        f_beta = 0\n",
        "    else:\n",
        "        f_beta = ((1 + beta**2) * precision * recall) / ((beta**2 * precision) + recall)\n",
        "\n",
        "    return f_beta\n"
      ]
    },
    {
      "cell_type": "markdown",
      "metadata": {
        "id": "v_5oPWxf1HOx"
      },
      "source": [
        "Now, use your `f_beta` function to compute the $F_1$ score for the true labels and the model predictions you calculated previously.  Save your output as `F1`."
      ]
    },
    {
      "cell_type": "code",
      "execution_count": null,
      "metadata": {
        "id": "ZcCmJzmg1HOx",
        "colab": {
          "base_uri": "https://localhost:8080/"
        },
        "outputId": "4e57017b-67b5-4435-9118-639b593accbb"
      },
      "outputs": [
        {
          "output_type": "stream",
          "name": "stdout",
          "text": [
            "F1 =  0.823529411764706\n"
          ]
        }
      ],
      "source": [
        "beta=1\n",
        "F1 = f_beta(labels, preds,beta)\n",
        "print(\"F1 = \", F1)"
      ]
    },
    {
      "cell_type": "markdown",
      "metadata": {
        "id": "WjzMKqm71HOx"
      },
      "source": [
        "**Code Check:** Verify your above calculation is correct by invoking Scikit-Learn's `f1_score` function."
      ]
    },
    {
      "cell_type": "code",
      "execution_count": null,
      "metadata": {
        "id": "SVxKEqIG1HOy",
        "colab": {
          "base_uri": "https://localhost:8080/"
        },
        "outputId": "62e53ad1-cb3f-435d-e639-2c81e713f054"
      },
      "outputs": [
        {
          "output_type": "stream",
          "name": "stdout",
          "text": [
            "Scikit-Learn F1 Score: 0.823529411764706\n"
          ]
        }
      ],
      "source": [
        "from sklearn.metrics import f1_score\n",
        "\n",
        "# Calculate F1 score using scikit-learn's f1_score function\n",
        "sklearn_f1 = f1_score(labels, preds)\n",
        "\n",
        "print(\"Scikit-Learn F1 Score: {}\".format(sklearn_f1))\n"
      ]
    },
    {
      "cell_type": "markdown",
      "metadata": {
        "id": "hNkYmJ2a1HOy"
      },
      "source": [
        "# Calculate the TPR and FPR for ROC Curve\n",
        "\n",
        "In the subsequent cells, you will be asked to plot an ROC curve.  The ROC curve plots the True Positive Rate (TPR, also called recall) against the False Positive Rate (FPR).  Both of these are scalar values, akin to precision and recall.\n",
        "\n",
        "Write a function from scratch called `TPR_FPR_score` that is nearly identical to `prec_recall_score` that you wrote previously, which computes and returns TPR and FPR (in that order).  The function must take as input (in this exact order):\n",
        "- a list of true labels\n",
        "- a list of model predictions you calculated previously\n",
        "\n",
        "TPR and FPR are defined as follows:\n",
        "\n",
        "$$ TPR = recall = \\frac{TP}{TP + FN} $$\n",
        "\n",
        "$$ FPR = \\frac{FP}{FP + TN} $$"
      ]
    },
    {
      "cell_type": "code",
      "execution_count": null,
      "metadata": {
        "id": "l6XxXn391HOz"
      },
      "outputs": [],
      "source": [
        "def TPR_FPR_score(true_labels, model_predictions):\n",
        "    # Initialize variables to keep track of true positive, false positive, true negative, and false negative counts\n",
        "    true_positive = 0\n",
        "    false_positive = 0\n",
        "    true_negative = 0\n",
        "    false_negative = 0\n",
        "\n",
        "    # Iterate through the true labels and model predictions\n",
        "    for true_label, prediction in zip(true_labels, model_predictions):\n",
        "        if true_label == 1 and prediction == 1:\n",
        "            # True positive\n",
        "            true_positive += 1\n",
        "        elif true_label == 0 and prediction == 1:\n",
        "            # False positive\n",
        "            false_positive += 1\n",
        "        elif true_label == 0 and prediction == 0:\n",
        "            # True negative\n",
        "            true_negative += 1\n",
        "        elif true_label == 1 and prediction == 0:\n",
        "            # False negative\n",
        "            false_negative += 1\n",
        "\n",
        "    # Calculate True Positive Rate (TPR) and False Positive Rate (FPR)\n",
        "    TPR = true_positive / (true_positive + false_negative) if (true_positive + false_negative) > 0 else 0\n",
        "    FPR = false_positive / (false_positive + true_negative) if (false_positive + true_negative) > 0 else 0\n",
        "\n",
        "    return TPR, FPR\n"
      ]
    },
    {
      "cell_type": "markdown",
      "metadata": {
        "id": "sjpODgea1HO0"
      },
      "source": [
        "**Code Check:** Invoke the `TPR_FPR_score` function using your `labels` and `preds` from previous steps.  Your output should be the following:  `(0.875, 0.16666666666666666)`"
      ]
    },
    {
      "cell_type": "code",
      "execution_count": null,
      "metadata": {
        "id": "SGanP9ud1HO0",
        "colab": {
          "base_uri": "https://localhost:8080/"
        },
        "outputId": "42e6e1ac-b846-4fc1-e9ed-8757724603b8"
      },
      "outputs": [
        {
          "output_type": "stream",
          "name": "stdout",
          "text": [
            "True Positive Rate (TPR): 0.875\n",
            "False Positive Rate (FPR): 0.16666666666666666\n"
          ]
        }
      ],
      "source": [
        "# Calculate TPR and FPR using the TPR_FPR_score function\n",
        "TPR, FPR = TPR_FPR_score(labels, preds)\n",
        "\n",
        "print(\"True Positive Rate (TPR): {}\".format(TPR))\n",
        "print(\"False Positive Rate (FPR): {}\".format(FPR))\n"
      ]
    },
    {
      "cell_type": "markdown",
      "metadata": {
        "id": "9XhxjMoq1HO2"
      },
      "source": [
        "# Compute and Plot the ROC Curve\n",
        "\n",
        "Write a function from scratch called `roc_curve_computer` that accepts (in this exact order):\n",
        "- a list of true labels\n",
        "- a list of prediction probabilities (notice these are probabilities and not predictions - you will need to obtain the predictions from these probabilities)\n",
        "- a list of threshold values.  \n",
        "\n",
        "The function must compute and return the True Positive Rate (TPR, also called recall) and the False Positive Rate (FPR) for each threshold value in the threshold value list that is passed to the function.\n",
        "\n",
        "**Important:** Be sure to reuse functions and code segments from your work above! You should reuse two of your above created functions so that you do not duplicate your code.  \n",
        "\n",
        "The function you will write behaves identically to Scikit-Learn's [roc_curve](https://scikit-learn.org/stable/modules/generated/sklearn.metrics.roc_curve.html#sklearn.metrics.roc_curve) function, except that it will take the list of thresholds in as input rather than return them as output.  Your function must calculate one value of TPR and one value of FPR for each of the threshold values in the list.  \n",
        "\n",
        "Your function will output a list of TPR values and a list of FPR values (in that order).  You will then take these TPR and FPR values, and plot them against each other to create the [Receiver Operating Characteristic (ROC) curve](https://scikit-learn.org/stable/auto_examples/model_selection/plot_roc.html).\n",
        "\n",
        "You must not use any built-in library function to perform the calculation of a performance metric.  You may of course use common, built-in Python functions, such as: `range()`, `len()`, et cetera."
      ]
    },
    {
      "cell_type": "code",
      "execution_count": null,
      "metadata": {
        "id": "qE2mQMsq1HO3"
      },
      "outputs": [],
      "source": [
        "def roc_curve_computer(true_labels, prediction_probs, thresholds):\n",
        "    # Initialize lists to store TPR and FPR values\n",
        "    TPR_values = []\n",
        "    FPR_values = []\n",
        "\n",
        "    # Iterate through each threshold\n",
        "    for threshold in thresholds:\n",
        "        # Use the predict function to obtain binary predictions based on the threshold\n",
        "        model_predictions = predict(prediction_probs, threshold)\n",
        "\n",
        "        # Calculate TPR and FPR using the TPR_FPR_score function\n",
        "        TPR, FPR = TPR_FPR_score(true_labels, model_predictions)\n",
        "\n",
        "        # Append TPR and FPR values to the respective lists\n",
        "        TPR_values.append(TPR)\n",
        "        FPR_values.append(FPR)\n",
        "\n",
        "    return TPR_values, FPR_values\n"
      ]
    },
    {
      "cell_type": "markdown",
      "metadata": {
        "id": "rTEbkED71HO3"
      },
      "source": [
        "**Code Check:** As an example, calling the `roc_curve_computer` function with the input `true_labels = [1, 0, 1, 0, 0]`, `pred_probs = [0.875, 0.325, 0.6, 0.09, 0.4]`, and `thresholds = [0.00, 0.25, 0.50, 0.75, 1.00]` yields the output:\n",
        "\n",
        "`TPR =  [1.0, 1.0, 1.0, 0.5, 0.0]` and `FPR =  [1.0, 0.6666, 0.0, 0.0, 0.0]`."
      ]
    },
    {
      "cell_type": "code",
      "execution_count": null,
      "metadata": {
        "id": "207Oi3HW1HO4",
        "colab": {
          "base_uri": "https://localhost:8080/"
        },
        "outputId": "b1788136-7e9d-4e7f-8f70-c2bb56e12ece"
      },
      "outputs": [
        {
          "output_type": "stream",
          "name": "stdout",
          "text": [
            "TPR = [1.0, 1.0, 1.0, 0.5, 0.0]\n",
            "FPR = [1.0, 0.6666666666666666, 0.0, 0.0, 0.0]\n"
          ]
        }
      ],
      "source": [
        "true_labels = [1, 0, 1, 0, 0]\n",
        "pred_probs = [0.875, 0.325, 0.6, 0.09, 0.4]\n",
        "thresholds = [0.00, 0.25, 0.50, 0.75, 1.00]\n",
        "\n",
        "# Calculate TPR and FPR using the roc_curve_computer function\n",
        "TPR_values, FPR_values = roc_curve_computer(true_labels, pred_probs, thresholds)\n",
        "\n",
        "# Print TPR and FPR values\n",
        "print(\"TPR =\", TPR_values)\n",
        "print(\"FPR =\", FPR_values)"
      ]
    },
    {
      "cell_type": "markdown",
      "metadata": {
        "id": "FDpXtOcK1HO4"
      },
      "source": [
        "Next, use your `roc_curve_computer` function along with the threshold values `thresholds = [x/100 for x in range(101)]` to compute the TPR and FPR lists for the provided data and save your output as `TPR` and `FPR`."
      ]
    },
    {
      "cell_type": "code",
      "execution_count": null,
      "metadata": {
        "id": "KZvV4Un71HO5"
      },
      "outputs": [],
      "source": [
        "thresholds = [x/100 for x in range(101)]\n",
        "TPR, FPR = roc_curve_computer(labels, probs, thresholds)"
      ]
    },
    {
      "cell_type": "markdown",
      "metadata": {
        "id": "oXFKHF0S1HO6"
      },
      "source": [
        "Use the following plotting function to plot the ROC curve.  Pass the TPR and FPR values that you calculated above into the plotting function to view the ROC curve."
      ]
    },
    {
      "cell_type": "code",
      "execution_count": null,
      "metadata": {
        "id": "UGfd0cRn1HO6",
        "colab": {
          "base_uri": "https://localhost:8080/",
          "height": 414
        },
        "outputId": "539911c5-58e8-4b81-a58c-cfb7ef9425dc"
      },
      "outputs": [
        {
          "output_type": "display_data",
          "data": {
            "text/plain": [
              "<Figure size 600x400 with 1 Axes>"
            ],
            "image/png": "[encoded data removed]"
          },
          "metadata": {}
        }
      ],
      "source": [
        "import matplotlib.pyplot as plt\n",
        "\n",
        "def plot_roc_curve(tpr, fpr, label=None):\n",
        "    plt.plot(fpr, tpr, linewidth=2, label=label)\n",
        "    plt.plot([0, 1], [0, 1], 'k--') # dashed diagonal line\n",
        "    plt.title('Receiver Operating Characteristic', fontsize=12)\n",
        "    plt.axis([-0.015, 1.0, 0, 1.02])\n",
        "    plt.xlabel('False Positive Rate (Fall-Out)', fontsize=12)\n",
        "    plt.ylabel('True Positive Rate (Recall)', fontsize=12)\n",
        "    plt.grid(True)\n",
        "\n",
        "plt.figure(figsize=(6, 4))\n",
        "plot_roc_curve(TPR, FPR)\n",
        "plt.show()"
      ]
    },
    {
      "cell_type": "markdown",
      "metadata": {
        "id": "26c9cqjm1HO8"
      },
      "source": [
        "**Code Check:** Next, compare your plot to the plot generated by Scikit-Learn's `roc_curve` function.  Use Scikit-Learn's `roc_curve` function to calculate the false positive rates, the true positive rates, and the thresholds.  Save the output using sklearn's function as `fpr`, `tpr`, and `thresholds`.  "
      ]
    },
    {
      "cell_type": "code",
      "execution_count": null,
      "metadata": {
        "id": "4i1gbTmy1HO8"
      },
      "outputs": [],
      "source": [
        "from sklearn.metrics import roc_curve\n",
        "fpr, tpr, thresholds = roc_curve(labels, probs)\n"
      ]
    },
    {
      "cell_type": "markdown",
      "metadata": {
        "id": "q6w0KKak1HO9"
      },
      "source": [
        "Pass the false positive rates and the true positive rates obtained above via the Scikit-Learn function as input to the `plot_roc_curve` function in order to compare ROC curves. These two plots should look the same."
      ]
    },
    {
      "cell_type": "code",
      "execution_count": null,
      "metadata": {
        "id": "FS1k0H_O1HO9",
        "colab": {
          "base_uri": "https://localhost:8080/",
          "height": 414
        },
        "outputId": "47e34fa5-4109-464a-d848-52304397fc56"
      },
      "outputs": [
        {
          "output_type": "display_data",
          "data": {
            "text/plain": [
              "<Figure size 600x400 with 1 Axes>"
            ],
            "image/png": "[encoded data removed]"
          },
          "metadata": {}
        }
      ],
      "source": [
        "plt.figure(figsize=(6, 4))\n",
        "plot_roc_curve(tpr, fpr)\n",
        "plt.show()"
      ]
    }
  ],
  "metadata": {
    "kernelspec": {
      "display_name": "Python 3",
      "language": "python",
      "name": "python3"
    },
    "language_info": {
      "codemirror_mode": {
        "name": "ipython",
        "version": 3
      },
      "file_extension": ".py",
      "mimetype": "text/x-python",
      "name": "python",
      "nbconvert_exporter": "python",
      "pygments_lexer": "ipython3",
      "version": "3.8.5"
    },
    "colab": {
      "provenance": [],
      "include_colab_link": true
    }
  },
  "nbformat": 4,
  "nbformat_minor": 0
}